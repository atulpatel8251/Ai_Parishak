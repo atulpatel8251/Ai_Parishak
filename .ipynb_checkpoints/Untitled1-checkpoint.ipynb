import tweepy
import json
import requests

requests.packages.urllib3.disable_warnings()


access_token="1763487024735289344-g3dfZHaYYe5qw7ejLu3HrTDR6HTF1g"
access_token_secret="K6tp88nSPyd3XJiekOzrU9eC3eBagf4DTv5nl3KkZY6rb"
consumer_key="2a560fC2ToNNCV3WLVsnHrgSC"
consumer_secret="m86Gjqe4orjlDUxRS78gpScleIeZ81iKPIbjwWjKyG9plxCp6P"
search_words = 'Python'
no=5

#auth.session.verify=False   
auth = tweepy.OAuthHandler(consumer_key, consumer_secret)
auth.set_access_token(access_token, access_token_secret)
api = tweepy.API(auth, wait_on_rate_limit=True)
tweets = tweepy.Cursor(api.search_tweets,
                q=search_words,
                lang="en").items(no)
with open(r'twitter.txt', 'w', encoding='utf-8') as f:
        for tweet in tweets:
                f.write(str(tweet))
