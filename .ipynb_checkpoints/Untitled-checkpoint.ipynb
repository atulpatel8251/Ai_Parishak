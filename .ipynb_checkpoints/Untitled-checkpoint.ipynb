import pandas as pd 
import json 
import streamlit as st
file_path = '10 Triangles.json'
with open(file_path, "r",encoding="utf-8") as file:
            data = json.load(file)
def mcq_to_markdown(mcq_dict):
    markdown = ""
    for key, value in mcq_dict.items():
        if key.isdigit():
            markdown += f"Question {key}: {value}\n"
        elif key.startswith('image'):
            markdown += f"![Image {key[-1]}](path/to/{value})\n\n"
    return markdown
def display_mcq(mcq_dict):
    for key, value in mcq_dict.items():
        if key.isdigit():
            st.markdown(f"**Question {key}:** {value}")
        elif key.startswith('image'):
            st.image(f"path/to/{value}", use_column_width=True)
display_mcq(data['6 Marks Questions'])
